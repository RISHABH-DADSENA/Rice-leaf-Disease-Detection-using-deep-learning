{
 "cells": [
  {
   "cell_type": "code",
   "execution_count": 1,
   "metadata": {},
   "outputs": [
    {
     "name": "stdout",
     "output_type": "stream",
     "text": [
      "Requirement already satisfied: pyDOE in c:\\users\\hp\\anaconda3\\envs\\tensorflow\\lib\\site-packages (0.3.8)\n",
      "Requirement already satisfied: scipy in c:\\users\\hp\\anaconda3\\envs\\tensorflow\\lib\\site-packages (from pyDOE) (1.5.2)\n",
      "Requirement already satisfied: numpy in c:\\users\\hp\\anaconda3\\envs\\tensorflow\\lib\\site-packages (from pyDOE) (1.19.2)\n"
     ]
    }
   ],
   "source": [
    "!pip install pyDOE"
   ]
  },
  {
   "cell_type": "code",
   "execution_count": 2,
   "metadata": {},
   "outputs": [],
   "source": [
    "import os\n",
    "import random\n",
    "import math\n",
    "import tensorflow as tf\n",
    "from tensorflow.keras.preprocessing.image import load_img, img_to_array\n",
    "import tensorflow.keras.layers as L\n",
    "from tensorflow.keras.utils import to_categorical\n",
    "from tensorflow.keras.regularizers import l2\n",
    "from tensorflow.keras.optimizers import Adam\n",
    "from tensorflow.keras.optimizers.schedules import ExponentialDecay\n",
    "import tensorflow_hub as hub\n",
    "import numpy as np\n",
    "from sklearn.model_selection import train_test_split, RepeatedStratifiedKFold\n",
    "from sklearn.utils import shuffle\n",
    "from sklearn.metrics import accuracy_score\n",
    "from tqdm import tqdm\n",
    "from tabulate import tabulate\n",
    "from pyDOE import lhs\n",
    "import matplotlib.pyplot as plt\n"
   ]
  },
  {
   "cell_type": "markdown",
   "metadata": {},
   "source": [
    "## Defining Dataset"
   ]
  },
  {
   "cell_type": "code",
   "execution_count": 3,
   "metadata": {},
   "outputs": [
    {
     "name": "stdout",
     "output_type": "stream",
     "text": [
      "(84, 256, 256, 3) (84, 3)\n"
     ]
    }
   ],
   "source": [
    "class Dataset:\n",
    "    def __init__(self, data_root: str, *, test_size: float, img_size: int, seed: int = 0) -> None:\n",
    "        self.label2index = {}\n",
    "        self.index2label = {}\n",
    "        \n",
    "        # Discover the class label names.\n",
    "        class_labels = os.listdir(data_root)\n",
    "        self.nclasses = len(class_labels)\n",
    "        X, y = [], []\n",
    "        \n",
    "        for label_index, label in enumerate(class_labels):\n",
    "            # Load the images for this class label.\n",
    "            self.label2index[label_index] = label\n",
    "            self.index2label[label] = label_index\n",
    "            \n",
    "            img_names = os.listdir(os.path.join(data_root, label))\n",
    "            for img_name in img_names:\n",
    "                img_path = os.path.join(data_root, label, img_name)\n",
    "                img = load_img(img_path, target_size=(img_size, img_size, 3))\n",
    "                X.append(img_to_array(img))\n",
    "                y.append(label_index)\n",
    "        \n",
    "        X = np.array(X)\n",
    "        y = np.array(y)\n",
    "        #categorical encoding --rishabh\n",
    "        one_hot_y = to_categorical(y, num_classes=self.nclasses)\n",
    "        \n",
    "        # Make a stratified split.\n",
    "        self.X, self.X_test, self.labels, self.labels_test, self.y, self.y_test = train_test_split(\n",
    "            X, y, one_hot_y, test_size=test_size, random_state=seed, stratify=y\n",
    "        )\n",
    "\n",
    "        \n",
    "data = Dataset(r\"C:\\Users\\hp\\Desktop\\minor project/rice_leaf_diseases\", test_size=0.3, img_size=256)\n",
    "print(data.X.shape, data.y.shape)"
   ]
  },
  {
   "cell_type": "code",
   "execution_count": null,
   "metadata": {},
   "outputs": [],
   "source": []
  },
  {
   "cell_type": "code",
   "execution_count": 4,
   "metadata": {},
   "outputs": [
    {
     "name": "stdout",
     "output_type": "stream",
     "text": [
      "(84, 2048) (36, 2048)\n"
     ]
    }
   ],
   "source": [
    "embed = hub.KerasLayer(\"https://tfhub.dev/google/bit/m-r101x1/1\", trainable=False)\n",
    "X_embedding = embed(data.X)\n",
    "X_test_embedding = embed(data.X_test)\n",
    "print(X_embedding.shape, X_test_embedding.shape)"
   ]
  },
  {
   "cell_type": "code",
   "execution_count": 5,
   "metadata": {},
   "outputs": [],
   "source": [
    "def make_model(\n",
    "    nclasses: int, *, dropout_rate: float, nhiddenunits: int, l2_regularization: float\n",
    ") -> tf.keras.Model:\n",
    "    model = tf.keras.Sequential()\n",
    "    # One fully connected hidden layer\n",
    "    model.add(L.Dense(nhiddenunits, activation=\"relu\", kernel_regularizer=l2(l2_regularization)))\n",
    "    model.add(L.Dropout(dropout_rate))\n",
    "    # Output layer\n",
    "    model.add(L.Dense(nclasses, activation=\"softmax\", kernel_regularizer=l2(l2_regularization)))\n",
    "    return model"
   ]
  },
  {
   "cell_type": "code",
   "execution_count": 6,
   "metadata": {},
   "outputs": [],
   "source": [
    "def evaluate_model(\n",
    "    nclasses, X, y, X_dev, y_dev, *,\n",
    "    epochs: int, batch_size: int, learning_rate: float,\n",
    "    model_maker = make_model, **model_params\n",
    ") -> tuple:\n",
    "    \n",
    "    # Math to compute the learning rate schedule. We will divide our\n",
    "    # learning rate by a factor of 10 every 30% of the optimizer's\n",
    "    # total steps.\n",
    "    steps_per_epoch = math.ceil(len(X) / batch_size)\n",
    "    third_of_total_steps = math.floor(epochs * steps_per_epoch / 3)\n",
    "    \n",
    "    # Make and compile the model.\n",
    "    model = model_maker(nclasses, **model_params)\n",
    "    model.compile(\n",
    "        optimizer=Adam(\n",
    "            learning_rate=ExponentialDecay(\n",
    "                learning_rate,\n",
    "                decay_steps=third_of_total_steps,\n",
    "                decay_rate=0.1,\n",
    "                staircase=True\n",
    "            )\n",
    "        ),\n",
    "        loss=\"categorical_crossentropy\",\n",
    "        metrics=[\"accuracy\"]\n",
    "    )\n",
    "    \n",
    "    # Train the model on the training set and evaluate it on the dev set.\n",
    "    model.fit(X, y, batch_size=batch_size, epochs=epochs, verbose=0)\n",
    "    _, train_acc = model.evaluate(X, y, batch_size=batch_size, verbose=0)\n",
    "    _, dev_acc = model.evaluate(X_dev, y_dev, batch_size=batch_size, verbose=0)\n",
    "    return model, train_acc, dev_acc"
   ]
  },
  {
   "cell_type": "code",
   "execution_count": 7,
   "metadata": {},
   "outputs": [],
   "source": [
    "def cv_evaluate_model(\n",
    "    X, y, labels, *, nfolds: int, nrepeats: int, epochs: int, batch_size: int,\n",
    "    learning_rate: float, model_maker, verbose: bool = True, seed: int = 0,\n",
    "    **model_params\n",
    ") -> dict:\n",
    "    \"\"\"\n",
    "    Performs `nfolds` cross-validated training and evaluation of a\n",
    "    model hyperparameter configuration. Returns a dictionary of\n",
    "    statistics about the outcome of the cross-validated experiment.\n",
    "    \"\"\"\n",
    "    _, nclasses = y.shape\n",
    "    train_accs, dev_accs = [], []\n",
    "    \n",
    "    # Train and evaluate the model for each fold.\n",
    "    for train_index, dev_index in tqdm(\n",
    "        RepeatedStratifiedKFold(\n",
    "            n_splits=nfolds, n_repeats=nrepeats, random_state=seed\n",
    "        ).split(X, labels),\n",
    "        total=nfolds*nrepeats, disable=not verbose\n",
    "    ):\n",
    "        \n",
    "        # Select the data for this fold.\n",
    "        X_train_fold = tf.gather(X, train_index) \n",
    "        y_train_fold = tf.gather(y, train_index)\n",
    "        X_dev_fold = tf.gather(X, dev_index)\n",
    "        y_dev_fold = tf.gather(y, dev_index)\n",
    "        \n",
    "        # Train and evaluate the model.\n",
    "        _, train_acc, dev_acc = evaluate_model(\n",
    "            nclasses,\n",
    "            X_train_fold,\n",
    "            y_train_fold,\n",
    "            X_dev_fold,\n",
    "            y_dev_fold,\n",
    "            epochs=epochs,\n",
    "            batch_size=batch_size,\n",
    "            learning_rate=learning_rate,\n",
    "            model_maker=model_maker,\n",
    "            **model_params\n",
    "        )\n",
    "        train_accs.append(train_acc)\n",
    "        dev_accs.append(dev_acc)\n",
    "    \n",
    "    # Aggregate.\n",
    "    results = {\n",
    "        \"train_mean\": np.mean(train_accs),\n",
    "        \"train_std\": np.std(train_accs),\n",
    "        \"dev_mean\": np.mean(dev_accs),\n",
    "        \"dev_std\": np.std(dev_accs)\n",
    "    }\n",
    "    \n",
    "    # Report.\n",
    "    if verbose:\n",
    "        print(\n",
    "            tabulate(\n",
    "                [\n",
    "                    [\"Train\", results[\"train_mean\"], results[\"train_std\"]],\n",
    "                    [\"Dev\", results[\"dev_mean\"], results[\"dev_std\"]]\n",
    "                ],\n",
    "                headers=[\"Set\", \"Mean\", \"Std. Dev.\"]\n",
    "            )\n",
    "        )\n",
    "    \n",
    "    return results"
   ]
  },
  {
   "cell_type": "code",
   "execution_count": 8,
   "metadata": {},
   "outputs": [
    {
     "name": "stderr",
     "output_type": "stream",
     "text": [
      "100%|██████████████████████████████████████████████████████████████████████████████████████████████████████████████████████████████████| 30/30 [02:22<00:00,  4.77s/it]"
     ]
    },
    {
     "name": "stdout",
     "output_type": "stream",
     "text": [
      "Set        Mean    Std. Dev.\n",
      "-----  --------  -----------\n",
      "Train  1           0\n",
      "Dev    0.929167    0.0778563\n"
     ]
    },
    {
     "name": "stderr",
     "output_type": "stream",
     "text": [
      "\n"
     ]
    }
   ],
   "source": [
    "# We'll refer to these values throughout the notebook.\n",
    "default_cv_evaluate_params = {\n",
    "    \"X\": X_embedding,\n",
    "    \"y\": data.y,\n",
    "    \"labels\": data.labels,\n",
    "    \"nfolds\": 10,\n",
    "    \"nrepeats\": 3,\n",
    "    \"model_maker\": make_model,\n",
    "    \"epochs\": 200,\n",
    "    \"batch_size\": 32,\n",
    "    \"verbose\": False,\n",
    "    \"learning_rate\": 3e-3,\n",
    "    \"dropout_rate\": 0.3,\n",
    "    \"nhiddenunits\": 64,\n",
    "    \"l2_regularization\": 1e-6\n",
    "}\n",
    "\n",
    "_ = cv_evaluate_model(\n",
    "    **{\n",
    "        **default_cv_evaluate_params,\n",
    "        \"verbose\": True\n",
    "    }\n",
    ")"
   ]
  },
  {
   "cell_type": "code",
   "execution_count": 9,
   "metadata": {},
   "outputs": [],
   "source": [
    "nsamples = 20\n",
    "# `lhs` will yield a `nsamples`x2 matrix, with all values following\n",
    "# the uniform distribution in [0,1]\n",
    "np.random.seed()\n",
    "x = lhs(n=2, samples=nsamples)\n",
    "# Scale dropout samples to be in [0,0.6]\n",
    "dropout_rates = (x[:, 0]*.5)\n",
    "# Scale l2 samples to be in [-8, -1]\n",
    "l2_rates = (x[:, 1]*-7 - 1)\n",
    "# Now scale l2 samples to follow the\n",
    "# log scale in the range [10**-8,10**-1]\n",
    "l2_rates = 10**l2_rates"
   ]
  },
  {
   "cell_type": "code",
   "execution_count": 10,
   "metadata": {},
   "outputs": [
    {
     "name": "stderr",
     "output_type": "stream",
     "text": [
      "100%|█████████████████████████████████████████████████████████████████████████████████████████████████████████████████████████████████| 20/20 [47:21<00:00, 142.08s/it]\n"
     ]
    }
   ],
   "source": [
    "dev_means = np.zeros((nsamples, 1))\n",
    "dev_stds = np.zeros((nsamples, 1))\n",
    "for i in tqdm(range(nsamples)):\n",
    "    results = cv_evaluate_model(\n",
    "        **{\n",
    "            **default_cv_evaluate_params,\n",
    "            \"dropout_rate\": dropout_rates[i],\n",
    "            \"l2_regularization\": l2_rates[i]\n",
    "        }\n",
    "    )\n",
    "    \n",
    "    dev_means[i] = results[\"dev_mean\"]\n",
    "    dev_stds[i] = results[\"dev_std\"]"
   ]
  },
  {
   "cell_type": "code",
   "execution_count": 11,
   "metadata": {},
   "outputs": [
    {
     "name": "stdout",
     "output_type": "stream",
     "text": [
      "Best l2_rate:\t0.007784427506316309\n",
      "Best dropout:\t0.3279910218296617\n"
     ]
    },
    {
     "data": {
      "image/png": "[encoded data removed]",
      "text/plain": [
       "<Figure size 432x288 with 2 Axes>"
      ]
     },
     "metadata": {
      "needs_background": "light"
     },
     "output_type": "display_data"
    }
   ],
   "source": [
    "best_i = np.argmax(dev_means)\n",
    "best_l2 = l2_rates[best_i]\n",
    "print(f\"Best l2_rate:\\t{best_l2}\")\n",
    "best_dropout = dropout_rates[best_i]\n",
    "print(f\"Best dropout:\\t{best_dropout}\")\n",
    "\n",
    "plt.scatter(dropout_rates, l2_rates, c=dev_means, cmap=plt.cm.coolwarm)\n",
    "plt.xlabel(\"Dropout Rate\")\n",
    "plt.ylabel(\"L2 Rate\")\n",
    "plt.yscale(\"log\")\n",
    "plt.colorbar()\n",
    "plt.show()"
   ]
  },
  {
   "cell_type": "code",
   "execution_count": 15,
   "metadata": {},
   "outputs": [],
   "source": [
    "default_cv_evaluate_params[\"dropout_rate\"] = best_dropout\n",
    "default_cv_evaluate_params[\"l2_regularization\"] = best_l2"
   ]
  },
  {
   "cell_type": "code",
   "execution_count": 16,
   "metadata": {},
   "outputs": [],
   "source": [
    "def search_hyperparam(\n",
    "    param_name: str, lower: int, upper: int, nsamples: int,\n",
    "    scale: str = \"float\", **cv_evaluate_params\n",
    ") -> float:\n",
    "    \"\"\"\n",
    "    Cross validates a model along an evenly spaced range of `nsamples`\n",
    "    values for a single hyperparameter (identified by `param_name`. The\n",
    "    values are evenly spaced in the range `[lower,upper]`, and scaled\n",
    "    according to `scale`.\n",
    "    \"\"\"\n",
    "    # Sample the hyperparameter values to try.\n",
    "    param_values = np.linspace(lower, upper, nsamples)\n",
    "    if scale == \"log\":\n",
    "        param_values = 10**param_values\n",
    "    elif scale == \"int\":\n",
    "        param_values = param_values.astype(int)\n",
    "    \n",
    "    # Evaluate the model at each of the values.\n",
    "    dev_means = np.zeros((nsamples, 1))\n",
    "    dev_stds = np.zeros((nsamples, 1))\n",
    "    for i in tqdm(range(nsamples)):\n",
    "        results = cv_evaluate_model(\n",
    "            **{\n",
    "                **cv_evaluate_params,\n",
    "                param_name: param_values[i]\n",
    "            }\n",
    "        )\n",
    "        dev_means[i] = results[\"dev_mean\"]\n",
    "        dev_stds[i] = results[\"dev_std\"]\n",
    "    \n",
    "    # Find the best value.\n",
    "    best_param_value = param_values[np.argmax(dev_means)]\n",
    "    print(f\"Best {param_name} value: {best_param_value}\")\n",
    "    \n",
    "    # Plot scores achieved for all values.\n",
    "    plt.plot(param_values, dev_means)\n",
    "    plt.xlabel(param_name)\n",
    "    plt.ylabel(\"Mean Dev Set Accuracy\")\n",
    "    if scale == \"log\":\n",
    "        plt.xscale(\"log\")\n",
    "    plt.show()\n",
    "    \n",
    "    return best_param_value"
   ]
  },
  {
   "cell_type": "code",
   "execution_count": 17,
   "metadata": {},
   "outputs": [
    {
     "name": "stderr",
     "output_type": "stream",
     "text": [
      "100%|██████████████████████████████████████████████████████████████████████████████████████████████████████████████████████████████| 10/10 [2:49:13<00:00, 1015.36s/it]\n"
     ]
    },
    {
     "name": "stdout",
     "output_type": "stream",
     "text": [
      "Best epochs value: 450\n"
     ]
    },
    {
     "data": {
      "image/png": "[encoded data removed]",
      "text/plain": [
       "<Figure size 432x288 with 1 Axes>"
      ]
     },
     "metadata": {
      "needs_background": "light"
     },
     "output_type": "display_data"
    }
   ],
   "source": [
    "best_epochs = search_hyperparam(\"epochs\", 50, 500, 10, scale=\"int\", **default_cv_evaluate_params)"
   ]
  },
  {
   "cell_type": "code",
   "execution_count": 18,
   "metadata": {},
   "outputs": [
    {
     "name": "stderr",
     "output_type": "stream",
     "text": [
      "100%|████████████████████████████████████████████████████████████████████████████████████████████████████████████████████████████████| 9/9 [3:57:25<00:00, 1582.81s/it]\n"
     ]
    },
    {
     "name": "stdout",
     "output_type": "stream",
     "text": [
      "Best epochs value: 400\n"
     ]
    },
    {
     "data": {
      "image/png": "[encoded data removed]",
      "text/plain": [
       "<Figure size 432x288 with 1 Axes>"
      ]
     },
     "metadata": {
      "needs_background": "light"
     },
     "output_type": "display_data"
    }
   ],
   "source": [
    "best_epochs2 = search_hyperparam(\"epochs\", 400, 800, 9, scale=\"int\", **default_cv_evaluate_params)"
   ]
  },
  {
   "cell_type": "code",
   "execution_count": 19,
   "metadata": {},
   "outputs": [],
   "source": [
    "default_cv_evaluate_params[\"epochs\"] = best_epochs"
   ]
  },
  {
   "cell_type": "code",
   "execution_count": 20,
   "metadata": {},
   "outputs": [
    {
     "name": "stdout",
     "output_type": "stream",
     "text": [
      "Final test set accuracy:\t0.944444\n"
     ]
    }
   ],
   "source": [
    "def evaluate_final(params: dict) -> float:\n",
    "    \n",
    "    steps_per_epoch = math.ceil(len(X_embedding) / params[\"batch_size\"])\n",
    "    third_of_total_steps = math.floor(params[\"epochs\"] * steps_per_epoch / 3)\n",
    "\n",
    "    # Make and compile the model.\n",
    "    model = make_model(   \n",
    "        data.nclasses,\n",
    "        dropout_rate=params[\"dropout_rate\"],\n",
    "        nhiddenunits=params[\"nhiddenunits\"],\n",
    "        l2_regularization=params[\"l2_regularization\"]\n",
    "    )\n",
    "    model.compile(\n",
    "        optimizer=Adam(\n",
    "            learning_rate=ExponentialDecay(\n",
    "                params[\"learning_rate\"],\n",
    "                decay_steps=third_of_total_steps,\n",
    "                decay_rate=0.1,\n",
    "                staircase=True\n",
    "            )\n",
    "        ),\n",
    "        loss=\"categorical_crossentropy\",\n",
    "        metrics=[\"accuracy\"]\n",
    "    )\n",
    "\n",
    "    # Train the model on the full training set (no development set)\n",
    "    model.fit(\n",
    "        X_embedding,\n",
    "        tf.convert_to_tensor(data.y),\n",
    "        batch_size=params[\"batch_size\"],\n",
    "        epochs=params[\"epochs\"],\n",
    "        verbose=0\n",
    "    )\n",
    "\n",
    "    # Evaluate the fitted model on the test set.\n",
    "    _, test_acc = model.evaluate(\n",
    "        X_test_embedding,\n",
    "        data.y_test,\n",
    "        verbose=0\n",
    "    )\n",
    "    return test_acc\n",
    "\n",
    "test_acc = evaluate_final(default_cv_evaluate_params)\n",
    "print(f\"Final test set accuracy:\\t{test_acc:.6f}\")"
   ]
  },
  {
   "cell_type": "code",
   "execution_count": 21,
   "metadata": {},
   "outputs": [
    {
     "name": "stderr",
     "output_type": "stream",
     "text": [
      "100%|██████████████████████████████████████████████████████████████████████████████████████████████████████████████████████████████████| 30/30 [10:34<00:00, 21.17s/it]\n"
     ]
    }
   ],
   "source": [
    "test_accs = []\n",
    "for _ in tqdm(range(30)):\n",
    "    test_accs.append(evaluate_final(default_cv_evaluate_params))"
   ]
  },
  {
   "cell_type": "code",
   "execution_count": 24,
   "metadata": {},
   "outputs": [
    {
     "data": {
      "image/png": "[encoded data removed]",
      "text/plain": [
       "<Figure size 432x288 with 1 Axes>"
      ]
     },
     "metadata": {
      "needs_background": "light"
     },
     "output_type": "display_data"
    }
   ],
   "source": [
    "plt.hist(test_accs)\n",
    "plt.xlabel(\"Test Set Accuracy\")\n",
    "plt.ylabel(\"Model Count\")\n",
    "plt.savefig(\"TestSet.png\",dpi=300,bbox_inches='tight')\n",
    "plt.show()"
   ]
  },
  {
   "cell_type": "code",
   "execution_count": null,
   "metadata": {},
   "outputs": [],
   "source": []
  },
  {
   "cell_type": "code",
   "execution_count": null,
   "metadata": {},
   "outputs": [],
   "source": []
  }
 ],
 "metadata": {
  "kernelspec": {
   "display_name": "Python 3",
   "language": "python",
   "name": "python3"
  },
  "language_info": {
   "codemirror_mode": {
    "name": "ipython",
    "version": 3
   },
   "file_extension": ".py",
   "mimetype": "text/x-python",
   "name": "python",
   "nbconvert_exporter": "python",
   "pygments_lexer": "ipython3",
   "version": "3.7.9"
  }
 },
 "nbformat": 4,
 "nbformat_minor": 4
}
